{
 "cells": [
  {
   "cell_type": "code",
   "execution_count": null,
   "id": "93b99082",
   "metadata": {},
   "outputs": [],
   "source": [
    "import $ivy.`com.typesafe.akka::akka-stream:2.6.14`"
   ]
  },
  {
   "cell_type": "code",
   "execution_count": null,
   "id": "bb4e8966",
   "metadata": {},
   "outputs": [],
   "source": [
    "import java.time._\n",
    "import scala.concurrent._, duration._\n",
    "import akka._\n",
    "import akka.actor._\n",
    "import akka.stream._\n",
    "import akka.stream.scaladsl._"
   ]
  },
  {
   "cell_type": "code",
   "execution_count": null,
   "id": "ea1e9b09",
   "metadata": {},
   "outputs": [],
   "source": [
    "implicit lazy val system: ActorSystem = ActorSystem(\"akka-stream-primer\")"
   ]
  },
  {
   "cell_type": "markdown",
   "id": "edbf0333",
   "metadata": {},
   "source": [
    "# Desing your own operator with `GraphStage`"
   ]
  },
  {
   "cell_type": "markdown",
   "id": "e38bfc8d",
   "metadata": {},
   "source": [
    "## The identity BidyFlow "
   ]
  },
  {
   "cell_type": "code",
   "execution_count": null,
   "id": "b8cbf10d",
   "metadata": {},
   "outputs": [],
   "source": [
    "import akka.stream.scaladsl._\n",
    "import akka.stream._\n",
    "import akka.stream.stage._\n",
    "\n",
    "case class IdentityBidy[A, B]()(implicit system: ActorSystem) extends GraphStage[BidiShape[A, A, B, B]] {\n",
    "\n",
    "    override def toString: String = \"Identity Bidi\"\n",
    "\n",
    "    val inC: Inlet[A] = Inlet(\"inC\")\n",
    "    val outC: Outlet[A] = Outlet(\"outC\")\n",
    "    val inS: Inlet[B] = Inlet(\"inS\")\n",
    "    val outS: Outlet[B] = Outlet(\"outS\")\n",
    "\n",
    "    override val shape = BidiShape(inC, outC, inS, outS)\n",
    "\n",
    "    override def createLogic(inheritedAttributes: Attributes): GraphStageLogic =\n",
    "        new GraphStageLogic(shape) {\n",
    "\n",
    "            setHandler(inC, new InHandler {\n",
    "                override def onPush(): Unit = {\n",
    "                    val elem = grab(inC)\n",
    "                    if (isAvailable(outC)) {\n",
    "                        push(outC, elem) \n",
    "                        system.log.debug(s\"inC (onPush): push $elem to outC\")  \n",
    "                    } else system.log.debug(s\"inC (onPush): outC unavailable\")  \n",
    "                }\n",
    "                \n",
    "                override def onUpstreamFinish(): Unit =\n",
    "                    completeStage()\n",
    "            })\n",
    "\n",
    "            setHandler(outC, new OutHandler {\n",
    "                override def onPull(): Unit =\n",
    "                    if (!hasBeenPulled(inC)) {\n",
    "                        pull(inC)\n",
    "                        system.log.debug(s\"outC (onPull): pull inC\")\n",
    "                    } else system.log.debug(s\"outC (onPull): inC has already been pulled\")\n",
    "            })\n",
    "\n",
    "            setHandler(inS, new InHandler {\n",
    "                override def onPush(): Unit = {\n",
    "                    val elem = grab(inS)\n",
    "                    if (isAvailable(outS)) {\n",
    "                        push(outS, elem)\n",
    "                        system.log.debug(s\"inS (onPush): push $elem to outS\")  \n",
    "                    } else system.log.debug(s\"inS (onPush): outS unavailable\")  \n",
    "                }\n",
    "            })\n",
    "\n",
    "            setHandler(outS, new OutHandler {\n",
    "                override def onPull(): Unit = \n",
    "                    if (!hasBeenPulled(inS)) {\n",
    "                        pull(inS)\n",
    "                        system.log.debug(s\"outS (onPull): pull inS\")\n",
    "                    } else system.log.debug(s\"outS (onPull): inS has already been pulled\")\n",
    "            })\n",
    "        }\n",
    "}"
   ]
  },
  {
   "cell_type": "code",
   "execution_count": null,
   "id": "8e549d6a",
   "metadata": {},
   "outputs": [],
   "source": [
    "val idBidy = BidiFlow.fromGraph(IdentityBidy[String, Int]())"
   ]
  },
  {
   "cell_type": "code",
   "execution_count": null,
   "id": "a0e62945",
   "metadata": {},
   "outputs": [],
   "source": [
    "val flow = idBidy.join(Flow.fromFunction(_.length))"
   ]
  },
  {
   "cell_type": "code",
   "execution_count": null,
   "id": "97ec638b",
   "metadata": {},
   "outputs": [],
   "source": [
    "// Debug level = 4\n",
    "system.eventStream.setLogLevel(akka.event.Logging.LogLevel(4))"
   ]
  },
  {
   "cell_type": "code",
   "execution_count": null,
   "id": "732e86b6",
   "metadata": {},
   "outputs": [],
   "source": [
    "Source(List(\"a\", \"aa\", \"aaa\", \"aaaa\")).via(flow).runForeach(println)"
   ]
  },
  {
   "cell_type": "markdown",
   "id": "dfb2f617",
   "metadata": {},
   "source": [
    "## The OneInOneOut BidyFlow "
   ]
  },
  {
   "cell_type": "code",
   "execution_count": null,
   "id": "c6c9ef09",
   "metadata": {},
   "outputs": [],
   "source": [
    "import akka.stream.scaladsl._\n",
    "import akka.stream._\n",
    "import akka.stream.stage._\n",
    "\n",
    "case class OneInOneOut[A, B]()(implicit system: ActorSystem) extends GraphStage[BidiShape[A, A, B, B]] {\n",
    "\n",
    "    override def toString: String = \"Identity Bidi\"\n",
    "\n",
    "    val inC: Inlet[A] = Inlet(\"inC\")\n",
    "    val outC: Outlet[A] = Outlet(\"outC\")\n",
    "    val inS: Inlet[B] = Inlet(\"inS\")\n",
    "    val outS: Outlet[B] = Outlet(\"outS\")\n",
    "\n",
    "    override val shape = BidiShape(inC, outC, inS, outS)\n",
    "\n",
    "    override def createLogic(inheritedAttributes: Attributes): GraphStageLogic =\n",
    "        new GraphStageLogic(shape) {\n",
    "            \n",
    "            var beingProcessed: Boolean = false\n",
    "\n",
    "            setHandler(inC, new InHandler {\n",
    "                override def onPush(): Unit = {\n",
    "                    val elem = grab(inC)\n",
    "                    if (isAvailable(outC)) {\n",
    "                        push(outC, elem) \n",
    "                        beingProcessed = true\n",
    "                        system.log.debug(s\"inC (onPush): push $elem to outC\")  \n",
    "                    } else \n",
    "                        system.log.debug(s\"inC (onPush): outC unavailable\")  \n",
    "                }\n",
    "                \n",
    "                override def onUpstreamFinish(): Unit =\n",
    "                    completeStage()\n",
    "            })\n",
    "\n",
    "            setHandler(outC, new OutHandler {\n",
    "                override def onPull(): Unit =\n",
    "                    if (!hasBeenPulled(inC) && !beingProcessed) {\n",
    "                        pull(inC)\n",
    "                        system.log.debug(s\"outC (onPull): pull inC\")\n",
    "                    } else if (!hasBeenPulled(inC) && beingProcessed)\n",
    "                        system.log.debug(s\"outC (onPull): waiting until it's been processed\")\n",
    "                    else if (hasBeenPulled(inC) && beingProcessed)\n",
    "                        system.log.debug(s\"outC (onPull): inC has already been pulled & being processed: should not happen!\")\n",
    "                    else \n",
    "                        system.log.debug(s\"outC (onPull): inC has already been pulled\")\n",
    "            })\n",
    "\n",
    "            setHandler(inS, new InHandler {\n",
    "                override def onPush(): Unit = {\n",
    "                    val elem = grab(inS)\n",
    "                    \n",
    "                    beingProcessed = false\n",
    "                    \n",
    "                    if (!hasBeenPulled(inC)){\n",
    "                        pull(inC)\n",
    "                        system.log.debug(s\"inS (onPush): pull inC\")\n",
    "                    } else \n",
    "                        system.log.debug(\"inS (onPush): inC has already been pulled\")\n",
    "                        \n",
    "                    \n",
    "                    if (isAvailable(outS)) {\n",
    "                        push(outS, elem)\n",
    "                        system.log.debug(s\"inS (onPush): push $elem to outS\")  \n",
    "                    } else \n",
    "                        system.log.debug(s\"inS (onPush): outS unavailable\")  \n",
    "                }\n",
    "            })\n",
    "\n",
    "            setHandler(outS, new OutHandler {\n",
    "                override def onPull(): Unit = \n",
    "                    if (!hasBeenPulled(inS)) {\n",
    "                        pull(inS)\n",
    "                        system.log.debug(s\"outS (onPull): pull inS\")\n",
    "                    } else \n",
    "                        system.log.debug(s\"outS (onPull): inS has already been pulled\")\n",
    "            })\n",
    "        }\n",
    "}"
   ]
  },
  {
   "cell_type": "code",
   "execution_count": null,
   "id": "84b42a7e",
   "metadata": {},
   "outputs": [],
   "source": [
    "val oneToOneBidy = BidiFlow.fromGraph(OneInOneOut[String, Int]())"
   ]
  },
  {
   "cell_type": "code",
   "execution_count": null,
   "id": "d768ed08",
   "metadata": {},
   "outputs": [],
   "source": [
    "val flow = oneToOneBidy.join(Flow.fromFunction(_.length))"
   ]
  },
  {
   "cell_type": "code",
   "execution_count": null,
   "id": "22c8509e",
   "metadata": {},
   "outputs": [],
   "source": [
    "// Debug level = 4\n",
    "system.eventStream.setLogLevel(akka.event.Logging.LogLevel(4))"
   ]
  },
  {
   "cell_type": "code",
   "execution_count": null,
   "id": "a8f70036",
   "metadata": {},
   "outputs": [],
   "source": [
    "Source(List(\"a\", \"aa\", \"aaa\", \"aaaa\")).via(flow).runForeach(println)"
   ]
  },
  {
   "cell_type": "code",
   "execution_count": null,
   "id": "e49ca2db",
   "metadata": {},
   "outputs": [],
   "source": []
  },
  {
   "cell_type": "code",
   "execution_count": null,
   "id": "3b302bd4",
   "metadata": {},
   "outputs": [],
   "source": []
  }
 ],
 "metadata": {
  "kernelspec": {
   "display_name": "Scala",
   "language": "scala",
   "name": "scala"
  },
  "language_info": {
   "codemirror_mode": "text/x-scala",
   "file_extension": ".sc",
   "mimetype": "text/x-scala",
   "name": "scala",
   "nbconvert_exporter": "script",
   "version": "2.13.1"
  }
 },
 "nbformat": 4,
 "nbformat_minor": 5
}
