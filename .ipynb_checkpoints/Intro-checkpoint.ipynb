{
 "cells": [
  {
   "cell_type": "code",
   "execution_count": 7,
   "metadata": {},
   "outputs": [
    {
     "data": {
      "text/plain": [
       "\u001b[32mimport \u001b[39m\u001b[36m$ivy.$                                     \n",
       "\u001b[39m"
      ]
     },
     "execution_count": 7,
     "metadata": {},
     "output_type": "execute_result"
    }
   ],
   "source": [
    "import $ivy.`com.typesafe.akka::akka-stream:2.6.4`\n",
    "repl.pprinter() = repl.pprinter().copy(defaultHeight = 5 )"
   ]
  },
  {
   "cell_type": "code",
   "execution_count": 8,
   "metadata": {},
   "outputs": [
    {
     "data": {
      "text/plain": [
       "\u001b[32mimport \u001b[39m\u001b[36mjava.time._\n",
       "\u001b[39m\n",
       "\u001b[32mimport \u001b[39m\u001b[36mscala.concurrent._, duration._\n",
       "\u001b[39m\n",
       "\u001b[32mimport \u001b[39m\u001b[36makka._\n",
       "\u001b[39m\n",
       "\u001b[32mimport \u001b[39m\u001b[36makka.actor._\n",
       "\u001b[39m\n",
       "\u001b[32mimport \u001b[39m\u001b[36makka.stream._\n",
       "\u001b[39m\n",
       "\u001b[32mimport \u001b[39m\u001b[36makka.stream.scaladsl._\u001b[39m"
      ]
     },
     "execution_count": 8,
     "metadata": {},
     "output_type": "execute_result"
    }
   ],
   "source": [
    "import java.time._\n",
    "import scala.concurrent._, duration._\n",
    "import akka._\n",
    "import akka.actor._\n",
    "import akka.stream._\n",
    "import akka.stream.scaladsl._"
   ]
  },
  {
   "cell_type": "markdown",
   "metadata": {},
   "source": [
    "# A streaming DSL"
   ]
  },
  {
   "cell_type": "markdown",
   "metadata": {},
   "source": [
    "[Akka streams](https://doc.akka.io/api/akka/current/akka/stream/index.html) offers a DSL for programming reactive stream processors. These programs are made up from three basic components: sources, flows and sinks."
   ]
  },
  {
   "cell_type": "markdown",
   "metadata": {},
   "source": [
    "`Source`s represent data publishers. "
   ]
  },
  {
   "cell_type": "code",
   "execution_count": null,
   "metadata": {},
   "outputs": [],
   "source": [
    "val source: Source[Int, NotUsed] = Source(List(1,2,3,4,5,6,7,8,9))"
   ]
  },
  {
   "cell_type": "markdown",
   "metadata": {},
   "source": [
    "`Sink`s are data consumers. "
   ]
  },
  {
   "cell_type": "code",
   "execution_count": null,
   "metadata": {},
   "outputs": [],
   "source": [
    "val sink: Sink[Any, Future[Done]]  = Sink.foreach(println)"
   ]
  },
  {
   "cell_type": "markdown",
   "metadata": {},
   "source": [
    "We can connect a source and sink in order to obtain a so-called _runnable graph_, i.e. a streaming processor that can be actually run. In DSL terminology, the `RunnableGraph` is the _program_."
   ]
  },
  {
   "cell_type": "code",
   "execution_count": null,
   "metadata": {},
   "outputs": [],
   "source": [
    "val graph1: RunnableGraph[NotUsed] = source.to(sink)"
   ]
  },
  {
   "cell_type": "markdown",
   "metadata": {},
   "source": [
    "In order to run a graph we need a _materializer_, i.e. the interpreter of the streaming program. The standard materializer offered by akka-stream builts upon actors, so we need an actor system first."
   ]
  },
  {
   "cell_type": "code",
   "execution_count": 9,
   "metadata": {},
   "outputs": [
    {
     "data": {
      "text/plain": [
       "\u001b[36msystem\u001b[39m: \u001b[32mActorSystem\u001b[39m = \u001b[32m[lazy]\u001b[39m"
      ]
     },
     "execution_count": 9,
     "metadata": {},
     "output_type": "execute_result"
    }
   ],
   "source": [
    "implicit lazy val system: ActorSystem = ActorSystem(\"akka-stream-primer\")"
   ]
  },
  {
   "cell_type": "markdown",
   "metadata": {},
   "source": [
    "There is no need to explicitly instantiate the materializer, since it's already available implicitly:"
   ]
  },
  {
   "cell_type": "code",
   "execution_count": 10,
   "metadata": {},
   "outputs": [
    {
     "data": {
      "text/plain": [
       "\u001b[36mres9\u001b[39m: \u001b[32mMaterializer\u001b[39m = \u001b[33mPhasedFusingActorMaterializer\u001b[39m(\n",
       "  akka://akka-stream-primer,\n",
       "  ActorMaterializerSettings(4,16,akka.actor.default-dispatcher,<function1>,StreamSubscriptionTimeoutSettings(CancelTermination,5000 milliseconds),false,1000,100..."
      ]
     },
     "execution_count": 10,
     "metadata": {},
     "output_type": "execute_result"
    }
   ],
   "source": [
    "implicitly[Materializer]"
   ]
  },
  {
   "cell_type": "markdown",
   "metadata": {},
   "source": [
    "We can now run our graph:"
   ]
  },
  {
   "cell_type": "code",
   "execution_count": null,
   "metadata": {},
   "outputs": [],
   "source": [
    "graph1.run"
   ]
  },
  {
   "cell_type": "markdown",
   "metadata": {},
   "source": [
    "Between the sources and sinkes we can attach _flows_, intermediate processing steps: "
   ]
  },
  {
   "cell_type": "code",
   "execution_count": null,
   "metadata": {},
   "outputs": [],
   "source": [
    "val graph2 = source.via(Flow[Int].map(_ + 1)).to(sink)"
   ]
  },
  {
   "cell_type": "code",
   "execution_count": null,
   "metadata": {},
   "outputs": [],
   "source": [
    "graph2.run"
   ]
  },
  {
   "cell_type": "markdown",
   "metadata": {},
   "source": [
    "### Logging"
   ]
  },
  {
   "cell_type": "markdown",
   "metadata": {},
   "source": [
    "We can log the activity of each operator in a graph to properly understand the contribution of each step in the transformation pipeline."
   ]
  },
  {
   "cell_type": "code",
   "execution_count": null,
   "metadata": {},
   "outputs": [],
   "source": [
    "import akka.event.Logging\n",
    "\n",
    "implicit class SourceOps[A, M](S: Source[A, M]){\n",
    "    def logAll(l: String): Source[A, M] =\n",
    "    S.log(l).withAttributes(Attributes.logLevels(\n",
    "        onElement = Logging.WarningLevel,\n",
    "        onFinish = Logging.WarningLevel,\n",
    "        onFailure = Logging.DebugLevel))\n",
    "}"
   ]
  },
  {
   "cell_type": "code",
   "execution_count": null,
   "metadata": {},
   "outputs": [],
   "source": [
    "Source(List(1,2,3)).logAll(\"source\")\n",
    "    .via(Flow[Int].map(_ + 1)).logAll(\"flow\")\n",
    "    .to(Sink.ignore)\n",
    "    .run"
   ]
  },
  {
   "cell_type": "markdown",
   "metadata": {},
   "source": [
    "# Materialized values"
   ]
  },
  {
   "cell_type": "markdown",
   "metadata": {},
   "source": [
    "The output of a pipeline is called the *materialized value*."
   ]
  },
  {
   "cell_type": "code",
   "execution_count": 61,
   "metadata": {},
   "outputs": [
    {
     "data": {
      "text/plain": [
       "\u001b[36msource\u001b[39m: \u001b[32mSource\u001b[39m[\u001b[32mInt\u001b[39m, \u001b[32mNotUsed\u001b[39m] = Source(SourceShape(StatefulMapConcat.out(513068339)))"
      ]
     },
     "execution_count": 61,
     "metadata": {},
     "output_type": "execute_result"
    }
   ],
   "source": [
    "val source = Source(List(1,2,3))"
   ]
  },
  {
   "cell_type": "code",
   "execution_count": 64,
   "metadata": {},
   "outputs": [
    {
     "data": {
      "text/plain": [
       "\u001b[36mignoreS\u001b[39m: \u001b[32mSink\u001b[39m[\u001b[32mAny\u001b[39m, \u001b[32mFuture\u001b[39m[\u001b[32mDone\u001b[39m]] = Sink(SinkShape(Ignore.in(1194690801)))\n",
       "\u001b[36mtoListS\u001b[39m: \u001b[32mSink\u001b[39m[\u001b[32mInt\u001b[39m, \u001b[32mFuture\u001b[39m[\u001b[32mList\u001b[39m[\u001b[32mInt\u001b[39m]]] = Sink(SinkShape(seq.in(1807803460)))\n",
       "\u001b[36mtoPrintlnS\u001b[39m: \u001b[32mSink\u001b[39m[\u001b[32mAny\u001b[39m, \u001b[32mFuture\u001b[39m[\u001b[32mDone\u001b[39m]] = Sink(SinkShape(Map.in(39437523)))\n",
       "\u001b[36mfoldS\u001b[39m: \u001b[32mSink\u001b[39m[\u001b[32mInt\u001b[39m, \u001b[32mFuture\u001b[39m[\u001b[32mString\u001b[39m]] = Sink(SinkShape(Fold.in(1608103017)))"
      ]
     },
     "execution_count": 64,
     "metadata": {},
     "output_type": "execute_result"
    }
   ],
   "source": [
    "val ignoreS = Sink.ignore\n",
    "val toListS = Sink.collection[Int,List[Int]]\n",
    "val toPrintlnS = Sink.foreach(println)\n",
    "val foldS = Sink.fold[String, Int](\"\")((acc: String, e: Int) => acc + e)"
   ]
  },
  {
   "cell_type": "code",
   "execution_count": 65,
   "metadata": {},
   "outputs": [
    {
     "data": {
      "text/plain": [
       "\u001b[36mres64_0\u001b[39m: \u001b[32mRunnableGraph\u001b[39m[\u001b[32mNotUsed\u001b[39m] = \u001b[33mRunnableGraph\u001b[39m(\n",
       "  \u001b[33mLinearTraversalBuilder\u001b[39m(\n",
       "    None,\n",
       "    None,\n",
       "...\n",
       "\u001b[36mres64_1\u001b[39m: \u001b[32mRunnableGraph\u001b[39m[\u001b[32mNotUsed\u001b[39m] = \u001b[33mRunnableGraph\u001b[39m(\n",
       "  \u001b[33mLinearTraversalBuilder\u001b[39m(\n",
       "    None,\n",
       "    None,\n",
       "...\n",
       "\u001b[36mres64_2\u001b[39m: \u001b[32mRunnableGraph\u001b[39m[\u001b[32mNotUsed\u001b[39m] = \u001b[33mRunnableGraph\u001b[39m(\n",
       "  \u001b[33mLinearTraversalBuilder\u001b[39m(\n",
       "    None,\n",
       "    None,\n",
       "..."
      ]
     },
     "execution_count": 65,
     "metadata": {},
     "output_type": "execute_result"
    }
   ],
   "source": [
    "source.to(ignoreS)\n",
    "source.to(toListS)\n",
    "source.to(foldS)"
   ]
  },
  {
   "cell_type": "code",
   "execution_count": 66,
   "metadata": {},
   "outputs": [
    {
     "data": {
      "text/plain": [
       "\u001b[36mres65_0\u001b[39m: \u001b[32mRunnableGraph\u001b[39m[\u001b[32mFuture\u001b[39m[\u001b[32mDone\u001b[39m]] = \u001b[33mRunnableGraph\u001b[39m(\n",
       "  \u001b[33mLinearTraversalBuilder\u001b[39m(\n",
       "    None,\n",
       "    None,\n",
       "...\n",
       "\u001b[36mres65_1\u001b[39m: \u001b[32mRunnableGraph\u001b[39m[\u001b[32mFuture\u001b[39m[\u001b[32mList\u001b[39m[\u001b[32mInt\u001b[39m]]] = \u001b[33mRunnableGraph\u001b[39m(\n",
       "  \u001b[33mLinearTraversalBuilder\u001b[39m(\n",
       "    None,\n",
       "    None,\n",
       "...\n",
       "\u001b[36mres65_2\u001b[39m: \u001b[32mRunnableGraph\u001b[39m[\u001b[32mFuture\u001b[39m[\u001b[32mString\u001b[39m]] = \u001b[33mRunnableGraph\u001b[39m(\n",
       "  \u001b[33mLinearTraversalBuilder\u001b[39m(\n",
       "    None,\n",
       "    None,\n",
       "..."
      ]
     },
     "execution_count": 66,
     "metadata": {},
     "output_type": "execute_result"
    }
   ],
   "source": [
    "s.toMat(ignoreS)(Keep.right)\n",
    "s.toMat(toListS)(Keep.right)\n",
    "s.toMat(foldS)(Keep.right)"
   ]
  },
  {
   "cell_type": "markdown",
   "metadata": {},
   "source": [
    "Common shortcuts:"
   ]
  },
  {
   "cell_type": "code",
   "execution_count": null,
   "metadata": {},
   "outputs": [],
   "source": []
  },
  {
   "cell_type": "markdown",
   "metadata": {},
   "source": [
    "# Async boundaries "
   ]
  },
  {
   "cell_type": "markdown",
   "metadata": {},
   "source": [
    "### Akka streams vs. iterators"
   ]
  },
  {
   "cell_type": "markdown",
   "metadata": {},
   "source": [
    "Which is the difference between the previous akka stream program and the following `Iterator` program?"
   ]
  },
  {
   "cell_type": "code",
   "execution_count": null,
   "metadata": {},
   "outputs": [],
   "source": [
    "List(1,2,3,4).iterator.map(_ + 1).foreach(println)"
   ]
  },
  {
   "cell_type": "markdown",
   "metadata": {},
   "source": [
    "In both cases, we obtain a streaming processor. However, in akka streams, intermediate processing steps and actions performed over the resulting data, are first-class entities: flows and sinks. They can be defined independently, reused and combined as we wish. There is no such notion in the iterator realm. Moreover, akka streams are compiled into actors, and the graph has the potential to run asyncronously and concurrently, with back-pressure niceties. Iterator programs are run sequentially and syncronously.  "
   ]
  },
  {
   "cell_type": "markdown",
   "metadata": {},
   "source": [
    "### Exploiting parallelism "
   ]
  },
  {
   "cell_type": "code",
   "execution_count": null,
   "metadata": {},
   "outputs": [],
   "source": [
    "Source(1 to 3)\n",
    "    .map { i =>\n",
    "        println(s\"A: $i\"); i\n",
    "    }\n",
    "    .async\n",
    "    .map { i =>\n",
    "        println(s\"B: $i\"); i\n",
    "    }\n",
    "    .async\n",
    "    .map { i =>\n",
    "        println(s\"C: $i\"); i\n",
    "    }\n",
    "    .to(Sink.ignore)\n",
    "    .run"
   ]
  },
  {
   "cell_type": "markdown",
   "metadata": {},
   "source": [
    "# Fan-in, fan-out & additional operators"
   ]
  },
  {
   "cell_type": "code",
   "execution_count": 11,
   "metadata": {},
   "outputs": [
    {
     "data": {
      "text/plain": [
       "\u001b[36msource1\u001b[39m: \u001b[32mSource\u001b[39m[\u001b[32mInt\u001b[39m, \u001b[32mNotUsed\u001b[39m] = Source(SourceShape(StatefulMapConcat.out(1243834587)))\n",
       "\u001b[36msource2\u001b[39m: \u001b[32mSource\u001b[39m[\u001b[32mString\u001b[39m, \u001b[32mNotUsed\u001b[39m] = Source(SourceShape(StatefulMapConcat.out(529404463)))"
      ]
     },
     "execution_count": 11,
     "metadata": {},
     "output_type": "execute_result"
    }
   ],
   "source": [
    "val source1: Source[Int, NotUsed] = Source(List(1,2,3,4))\n",
    "val source2: Source[String, NotUsed] = Source(List(\"hola\", \"adios\"))"
   ]
  },
  {
   "cell_type": "code",
   "execution_count": 13,
   "metadata": {},
   "outputs": [
    {
     "name": "stdout",
     "output_type": "stream",
     "text": [
      "num: 1\n",
      "hola\n",
      "num: 2\n",
      "adios\n",
      "num: 3\n",
      "num: 4\n"
     ]
    },
    {
     "data": {
      "text/html": [
       "<div class=\"jp-RenderedText\">\n",
       "<pre><code><span style=\"color: rgb(0, 187, 187)\"><span class=\"ansi-cyan-fg\">res12</span></span>: <span style=\"color: rgb(0, 187, 0)\"><span class=\"ansi-green-fg\">Future</span></span>[<span style=\"color: rgb(0, 187, 0)\"><span class=\"ansi-green-fg\">Done</span></span>] = <span style=\"color: rgb(0, 187, 0)\"><span class=\"ansi-green-fg\"><span style=\"color: yellow\"><span class=\"ansi-yellow-fg\">Success</span></span>(Done)</span></span></code></pre>\n",
       "</div>"
      ],
      "text/plain": [
       "\u001b[36mres12\u001b[39m: \u001b[32mFuture\u001b[39m[\u001b[32mDone\u001b[39m] = \u001b[32m\u001b[33mSuccess\u001b[39m(Done)\u001b[39m"
      ]
     },
     "metadata": {},
     "output_type": "display_data"
    }
   ],
   "source": [
    "source1.map(i => s\"num: $i\")\n",
    "    .merge(source2)\n",
    "    .runWith(Sink.foreach(println))"
   ]
  },
  {
   "cell_type": "code",
   "execution_count": 14,
   "metadata": {},
   "outputs": [
    {
     "name": "stdout",
     "output_type": "stream",
     "text": [
      "(1,hola)\n",
      "(2,adios)\n"
     ]
    },
    {
     "data": {
      "text/html": [
       "<div class=\"jp-RenderedText\">\n",
       "<pre><code><span style=\"color: rgb(0, 187, 187)\"><span class=\"ansi-cyan-fg\">res13</span></span>: <span style=\"color: rgb(0, 187, 0)\"><span class=\"ansi-green-fg\">Future</span></span>[<span style=\"color: rgb(0, 187, 0)\"><span class=\"ansi-green-fg\">Done</span></span>] = <span style=\"color: rgb(0, 187, 0)\"><span class=\"ansi-green-fg\"><span style=\"color: yellow\"><span class=\"ansi-yellow-fg\">Success</span></span>(Done)</span></span></code></pre>\n",
       "</div>"
      ],
      "text/plain": [
       "\u001b[36mres13\u001b[39m: \u001b[32mFuture\u001b[39m[\u001b[32mDone\u001b[39m] = \u001b[32m\u001b[33mSuccess\u001b[39m(Done)\u001b[39m"
      ]
     },
     "metadata": {},
     "output_type": "display_data"
    }
   ],
   "source": [
    "source1.zip(source2)\n",
    "    .runWith(Sink.foreach(println))"
   ]
  },
  {
   "cell_type": "code",
   "execution_count": 15,
   "metadata": {},
   "outputs": [
    {
     "name": "stdout",
     "output_type": "stream",
     "text": [
      "1\n",
      "2\n",
      "3\n",
      "4\n",
      "hola\n",
      "adios\n"
     ]
    },
    {
     "data": {
      "text/html": [
       "<div class=\"jp-RenderedText\">\n",
       "<pre><code><span style=\"color: rgb(0, 187, 187)\"><span class=\"ansi-cyan-fg\">res14</span></span>: <span style=\"color: rgb(0, 187, 0)\"><span class=\"ansi-green-fg\">Future</span></span>[<span style=\"color: rgb(0, 187, 0)\"><span class=\"ansi-green-fg\">Done</span></span>] = <span style=\"color: rgb(0, 187, 0)\"><span class=\"ansi-green-fg\"><span style=\"color: yellow\"><span class=\"ansi-yellow-fg\">Success</span></span>(Done)</span></span></code></pre>\n",
       "</div>"
      ],
      "text/plain": [
       "\u001b[36mres14\u001b[39m: \u001b[32mFuture\u001b[39m[\u001b[32mDone\u001b[39m] = \u001b[32m\u001b[33mSuccess\u001b[39m(Done)\u001b[39m"
      ]
     },
     "metadata": {},
     "output_type": "display_data"
    }
   ],
   "source": [
    "source1.map(_.toString)\n",
    "    .concat(source2)\n",
    "    .runWith(Sink.foreach(println))"
   ]
  },
  {
   "cell_type": "markdown",
   "metadata": {},
   "source": [
    "See https://doc.akka.io/docs/akka/current/stream/stream-substream.html, for an explanation of substreams."
   ]
  },
  {
   "cell_type": "markdown",
   "metadata": {},
   "source": [
    "# File IO"
   ]
  },
  {
   "cell_type": "code",
   "execution_count": 29,
   "metadata": {},
   "outputs": [
    {
     "data": {
      "text/plain": [
       "\u001b[32mimport \u001b[39m\u001b[36mjava.nio.file._, akka.util._\u001b[39m"
      ]
     },
     "execution_count": 29,
     "metadata": {},
     "output_type": "execute_result"
    }
   ],
   "source": [
    "import java.nio.file._, akka.util._"
   ]
  },
  {
   "cell_type": "code",
   "execution_count": 30,
   "metadata": {},
   "outputs": [
    {
     "data": {
      "text/plain": [
       "\u001b[36mfile\u001b[39m: \u001b[32mPath\u001b[39m = Intro.ipynb"
      ]
     },
     "execution_count": 30,
     "metadata": {},
     "output_type": "execute_result"
    }
   ],
   "source": [
    "val file = Paths.get(\"Intro.ipynb\")"
   ]
  },
  {
   "cell_type": "code",
   "execution_count": 47,
   "metadata": {},
   "outputs": [
    {
     "data": {
      "text/plain": [
       "\u001b[36mlines\u001b[39m: \u001b[32mSource\u001b[39m[\u001b[32mString\u001b[39m, \u001b[32mFuture\u001b[39m[\u001b[32mIOResult\u001b[39m]] = Source(SourceShape(Map.out(1086145708)))"
      ]
     },
     "execution_count": 47,
     "metadata": {},
     "output_type": "execute_result"
    }
   ],
   "source": [
    "val lines: Source[String, Future[IOResult]] = FileIO.fromPath(file)\n",
    "    .via(Framing.delimiter(ByteString(\"\\n\"), maximumFrameLength = 1500, allowTruncation = true))\n",
    "    .throttle(1, 10.millisecond)\n",
    "    .map(_.utf8String)\n",
    "//    .runWith(Sink.takeLast(3))\n",
    "//    .runWith(Sink.foreach(println))"
   ]
  },
  {
   "cell_type": "code",
   "execution_count": 48,
   "metadata": {},
   "outputs": [
    {
     "name": "stdout",
     "output_type": "stream",
     "text": [
      "{\n",
      " \"cells\": [\n",
      "  {\n",
      "   \"cell_type\": \"code\",\n",
      "   \"execution_count\": 7,\n",
      "   \"metadata\": {},\n",
      "   \"outputs\": [\n",
      "    {\n",
      "     \"data\": {\n",
      "      \"text/plain\": [\n"
     ]
    },
    {
     "data": {
      "text/html": [
       "<div class=\"jp-RenderedText\">\n",
       "<pre><code><span style=\"color: rgb(0, 187, 187)\"><span class=\"ansi-cyan-fg\">res47</span></span>: <span style=\"color: rgb(0, 187, 0)\"><span class=\"ansi-green-fg\">Future</span></span>[<span style=\"color: rgb(0, 187, 0)\"><span class=\"ansi-green-fg\">Done</span></span>] = <span style=\"color: rgb(0, 187, 0)\"><span class=\"ansi-green-fg\"><style>@keyframes fadein { from { opacity: 0; } to { opacity: 1; } }</style><span style=\"animation: fadein 2s;\"><span style=\"color: yellow\"><span class=\"ansi-yellow-fg\">Success</span></span>(Done)</span></span></span></code></pre>\n",
       "</div>"
      ],
      "text/plain": [
       "\u001b[36mres47\u001b[39m: \u001b[32mFuture\u001b[39m[\u001b[32mDone\u001b[39m] = \u001b[32m\u001b[33mSuccess\u001b[39m(Done)\u001b[39m"
      ]
     },
     "metadata": {},
     "output_type": "display_data"
    }
   ],
   "source": [
    "lines.runWith(Sink.foreach(println))"
   ]
  },
  {
   "cell_type": "code",
   "execution_count": 52,
   "metadata": {},
   "outputs": [
    {
     "data": {
      "text/html": [
       "<div class=\"jp-RenderedText\">\n",
       "<pre><code><span style=\"color: rgb(0, 187, 187)\"><span class=\"ansi-cyan-fg\">res51</span></span>: <span style=\"color: rgb(0, 187, 0)\"><span class=\"ansi-green-fg\">Future</span></span>[<span style=\"color: rgb(0, 187, 0)\"><span class=\"ansi-green-fg\">IOResult</span></span>] = <span style=\"color: rgb(0, 187, 0)\"><span class=\"ansi-green-fg\"><style>@keyframes fadein { from { opacity: 0; } to { opacity: 1; } }</style><span style=\"animation: fadein 2s;\"><span style=\"color: yellow\"><span class=\"ansi-yellow-fg\">Success</span></span>(<span style=\"color: yellow\"><span class=\"ansi-yellow-fg\">IOResult</span></span>(<span style=\"color: rgb(0, 187, 0)\"><span class=\"ansi-green-fg\">1722L</span></span>, <span style=\"color: yellow\"><span class=\"ansi-yellow-fg\">Success</span></span>(Done)))</span></span></span></code></pre>\n",
       "</div>"
      ],
      "text/plain": [
       "\u001b[36mres51\u001b[39m: \u001b[32mFuture\u001b[39m[\u001b[32mIOResult\u001b[39m] = \u001b[32m\u001b[33mSuccess\u001b[39m(\u001b[33mIOResult\u001b[39m(\u001b[32m1722L\u001b[39m, \u001b[33mSuccess\u001b[39m(Done)))\u001b[39m"
      ]
     },
     "metadata": {},
     "output_type": "display_data"
    }
   ],
   "source": [
    "lines.map(_.length).map(_.toString+\"\\n\").map(ByteString(_)).runWith(FileIO.toPath(Paths.get(\"linecounts.txt\")))"
   ]
  },
  {
   "cell_type": "code",
   "execution_count": 50,
   "metadata": {},
   "outputs": [
    {
     "data": {
      "text/html": [
       "<div class=\"jp-RenderedText\">\n",
       "<pre><code><span style=\"color: rgb(0, 187, 187)\"><span class=\"ansi-cyan-fg\">res49</span></span>: <span style=\"color: rgb(0, 187, 0)\"><span class=\"ansi-green-fg\">Future</span></span>[<span style=\"color: rgb(0, 187, 0)\"><span class=\"ansi-green-fg\">IOResult</span></span>] = <span style=\"color: rgb(0, 187, 0)\"><span class=\"ansi-green-fg\"><span style=\"color: white\"><span class=\"ansi-white-fg\">[running]</span></span></span></span></code></pre>\n",
       "</div>"
      ],
      "text/plain": [
       "\u001b[36mres49\u001b[39m: \u001b[32mFuture\u001b[39m[\u001b[32mIOResult\u001b[39m] = \u001b[32m\u001b[37m[running]\u001b[39m\u001b[39m"
      ]
     },
     "metadata": {},
     "output_type": "display_data"
    }
   ],
   "source": [
    "Source(List(\"a\",\"b\",\"c\"))\n",
    "    .map(ByteString(_))\n",
    "    .runWith(FileIO.toPath(Paths.get(\"linecounts.txt\")))"
   ]
  },
  {
   "cell_type": "code",
   "execution_count": null,
   "metadata": {},
   "outputs": [],
   "source": []
  }
 ],
 "metadata": {
  "kernelspec": {
   "display_name": "Scala",
   "language": "scala",
   "name": "scala"
  },
  "language_info": {
   "codemirror_mode": "text/x-scala",
   "file_extension": ".scala",
   "mimetype": "text/x-scala",
   "name": "scala",
   "nbconvert_exporter": "script",
   "version": "2.13.0"
  }
 },
 "nbformat": 4,
 "nbformat_minor": 2
}
