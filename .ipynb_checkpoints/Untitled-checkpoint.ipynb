{
 "cells": [
  {
   "cell_type": "code",
   "execution_count": 1,
   "metadata": {},
   "outputs": [
    {
     "data": {
      "text/plain": [
       "\u001b[32mimport \u001b[39m\u001b[36m$ivy.$                                     \u001b[39m"
      ]
     },
     "execution_count": 1,
     "metadata": {},
     "output_type": "execute_result"
    }
   ],
   "source": [
    "import $ivy.`com.typesafe.akka::akka-stream:2.6.4`"
   ]
  },
  {
   "cell_type": "markdown",
   "metadata": {},
   "source": [
    "# Akka-stream: a DSL of streaming components"
   ]
  },
  {
   "cell_type": "code",
   "execution_count": 9,
   "metadata": {},
   "outputs": [
    {
     "data": {
      "text/plain": [
       "\u001b[32mimport \u001b[39m\u001b[36mscala.concurrent._\u001b[39m"
      ]
     },
     "execution_count": 9,
     "metadata": {},
     "output_type": "execute_result"
    }
   ],
   "source": [
    "import scala.concurrent._"
   ]
  },
  {
   "cell_type": "code",
   "execution_count": 15,
   "metadata": {},
   "outputs": [
    {
     "data": {
      "text/plain": [
       "\u001b[32mimport \u001b[39m\u001b[36makka._\n",
       "\u001b[39m\n",
       "\u001b[32mimport \u001b[39m\u001b[36makka.actor._\n",
       "\u001b[39m\n",
       "\u001b[32mimport \u001b[39m\u001b[36makka.stream._\n",
       "\u001b[39m\n",
       "\u001b[32mimport \u001b[39m\u001b[36makka.stream.scaladsl._\u001b[39m"
      ]
     },
     "execution_count": 15,
     "metadata": {},
     "output_type": "execute_result"
    }
   ],
   "source": [
    "import akka._\n",
    "import akka.actor._\n",
    "import akka.stream._\n",
    "import akka.stream.scaladsl._"
   ]
  },
  {
   "cell_type": "markdown",
   "metadata": {},
   "source": [
    "`Source`s represent data publishers. "
   ]
  },
  {
   "cell_type": "code",
   "execution_count": 16,
   "metadata": {},
   "outputs": [
    {
     "data": {
      "text/plain": [
       "\u001b[36msource\u001b[39m: \u001b[32mSource\u001b[39m[\u001b[32mInt\u001b[39m, \u001b[32mNotUsed\u001b[39m] = Source(SourceShape(StatefulMapConcat.out(207586156)))"
      ]
     },
     "execution_count": 16,
     "metadata": {},
     "output_type": "execute_result"
    }
   ],
   "source": [
    "val source: Source[Int, NotUsed] = Source(List(1,2,3))"
   ]
  },
  {
   "cell_type": "markdown",
   "metadata": {},
   "source": [
    "`Sink`s are data consumers. "
   ]
  },
  {
   "cell_type": "code",
   "execution_count": 31,
   "metadata": {},
   "outputs": [
    {
     "data": {
      "text/plain": [
       "\u001b[36msink\u001b[39m: \u001b[32mSink\u001b[39m[\u001b[32mAny\u001b[39m, \u001b[32mFuture\u001b[39m[\u001b[32mDone\u001b[39m]] = Sink(SinkShape(Map.in(671934171)))"
      ]
     },
     "execution_count": 31,
     "metadata": {},
     "output_type": "execute_result"
    }
   ],
   "source": [
    "val sink: Sink[Any, Future[Done]]  = Sink.foreach(println)"
   ]
  },
  {
   "cell_type": "code",
   "execution_count": 25,
   "metadata": {},
   "outputs": [
    {
     "data": {
      "text/plain": [
       "\u001b[36mrunnableGraph1\u001b[39m: \u001b[32mRunnableGraph\u001b[39m[\u001b[32mNotUsed\u001b[39m] = \u001b[33mRunnableGraph\u001b[39m(\n",
       "  \u001b[33mLinearTraversalBuilder\u001b[39m(\n",
       "    None,\n",
       "    None,\n",
       "    \u001b[32m3\u001b[39m,\n",
       "    \u001b[32m3\u001b[39m,\n",
       "    \u001b[33mConcat\u001b[39m(\n",
       "      \u001b[33mPushAttributes\u001b[39m(\u001b[33mAttributes\u001b[39m(\u001b[33mList\u001b[39m(\u001b[33mName\u001b[39m(\u001b[32m\"foreachSink\"\u001b[39m)))),\n",
       "      \u001b[33mConcat\u001b[39m(\n",
       "        \u001b[33mConcat\u001b[39m(\n",
       "          \u001b[33mConcat\u001b[39m(\n",
       "            \u001b[33mPushAttributes\u001b[39m(\u001b[33mAttributes\u001b[39m(\u001b[33mList\u001b[39m(\u001b[33mName\u001b[39m(\u001b[32m\"ignoreSink\"\u001b[39m)))),\n",
       "            \u001b[33mConcat\u001b[39m(\n",
       "              \u001b[33mConcat\u001b[39m(\n",
       "                \u001b[33mMaterializeAtomic\u001b[39m(\n",
       "                  \u001b[33mGraphStageModule\u001b[39m(\n",
       "                    \u001b[33mSinkShape\u001b[39m(Ignore.in(1733824963)),\n",
       "                    \u001b[33mAttributes\u001b[39m(\u001b[33mList\u001b[39m(\u001b[33mName\u001b[39m(\u001b[32m\"ignoreSink\"\u001b[39m))),\n",
       "                    akka.stream.impl.fusing.GraphStages$IgnoreSink$@2eb9b481\n",
       "                  ),\n",
       "                  \u001b[33mArray\u001b[39m()\n",
       "                ),\n",
       "                PopAttributes\n",
       "              ),\n",
       "              \u001b[33mConcat\u001b[39m(\n",
       "                \u001b[33mPushAttributes\u001b[39m(\u001b[33mAttributes\u001b[39m(\u001b[33mList\u001b[39m(\u001b[33mName\u001b[39m(\u001b[32m\"map\"\u001b[39m)))),\n",
       "                \u001b[33mConcat\u001b[39m(\n",
       "                  \u001b[33mConcat\u001b[39m(\n",
       "                    \u001b[33mConcat\u001b[39m(\n",
       "                      \u001b[33mMaterializeAtomic\u001b[39m(\n",
       "                        \u001b[33mGraphStageModule\u001b[39m(\n",
       "                          \u001b[33mFlowShape\u001b[39m(Map.in(1316228562), Map.out(63363272)),\n",
       "                          \u001b[33mAttributes\u001b[39m(\u001b[33mList\u001b[39m(\u001b[33mName\u001b[39m(\u001b[32m\"map\"\u001b[39m))),\n",
       "                          \u001b[33mMap\u001b[39m(\n",
       "                            ammonite.$sess.cmd16$Helper$$Lambda$2752/424897561@3475362d\n",
       "                          )\n",
       "                        ),\n",
       "                        \u001b[33mArray\u001b[39m(\u001b[32m-1\u001b[39m)\n",
       "...\n",
       "\u001b[36mrunnableGraph2\u001b[39m: \u001b[32mRunnableGraph\u001b[39m[\u001b[32mFuture\u001b[39m[\u001b[32mDone\u001b[39m]] = \u001b[33mRunnableGraph\u001b[39m(\n",
       "  \u001b[33mLinearTraversalBuilder\u001b[39m(\n",
       "    None,\n",
       "    None,\n",
       "    \u001b[32m3\u001b[39m,\n",
       "    \u001b[32m3\u001b[39m,\n",
       "    \u001b[33mConcat\u001b[39m(\n",
       "      \u001b[33mPushAttributes\u001b[39m(\u001b[33mAttributes\u001b[39m(\u001b[33mList\u001b[39m(\u001b[33mName\u001b[39m(\u001b[32m\"foreachSink\"\u001b[39m)))),\n",
       "      \u001b[33mConcat\u001b[39m(\n",
       "        \u001b[33mConcat\u001b[39m(\n",
       "          \u001b[33mConcat\u001b[39m(\n",
       "            \u001b[33mPushAttributes\u001b[39m(\u001b[33mAttributes\u001b[39m(\u001b[33mList\u001b[39m(\u001b[33mName\u001b[39m(\u001b[32m\"ignoreSink\"\u001b[39m)))),\n",
       "            \u001b[33mConcat\u001b[39m(\n",
       "              \u001b[33mConcat\u001b[39m(\n",
       "                \u001b[33mMaterializeAtomic\u001b[39m(\n",
       "                  \u001b[33mGraphStageModule\u001b[39m(\n",
       "                    \u001b[33mSinkShape\u001b[39m(Ignore.in(1733824963)),\n",
       "                    \u001b[33mAttributes\u001b[39m(\u001b[33mList\u001b[39m(\u001b[33mName\u001b[39m(\u001b[32m\"ignoreSink\"\u001b[39m))),\n",
       "                    akka.stream.impl.fusing.GraphStages$IgnoreSink$@2eb9b481\n",
       "                  ),\n",
       "                  \u001b[33mArray\u001b[39m()\n",
       "                ),\n",
       "                PopAttributes\n",
       "              ),\n",
       "              \u001b[33mConcat\u001b[39m(\n",
       "                \u001b[33mPushAttributes\u001b[39m(\u001b[33mAttributes\u001b[39m(\u001b[33mList\u001b[39m(\u001b[33mName\u001b[39m(\u001b[32m\"map\"\u001b[39m)))),\n",
       "                \u001b[33mConcat\u001b[39m(\n",
       "                  \u001b[33mConcat\u001b[39m(\n",
       "                    \u001b[33mConcat\u001b[39m(\n",
       "                      \u001b[33mMaterializeAtomic\u001b[39m(\n",
       "                        \u001b[33mGraphStageModule\u001b[39m(\n",
       "                          \u001b[33mFlowShape\u001b[39m(Map.in(1316228562), Map.out(63363272)),\n",
       "                          \u001b[33mAttributes\u001b[39m(\u001b[33mList\u001b[39m(\u001b[33mName\u001b[39m(\u001b[32m\"map\"\u001b[39m))),\n",
       "                          \u001b[33mMap\u001b[39m(\n",
       "                            ammonite.$sess.cmd16$Helper$$Lambda$2752/424897561@3475362d\n",
       "                          )\n",
       "                        ),\n",
       "                        \u001b[33mArray\u001b[39m(\u001b[32m-1\u001b[39m)\n",
       "..."
      ]
     },
     "execution_count": 25,
     "metadata": {},
     "output_type": "execute_result"
    }
   ],
   "source": [
    "val runnableGraph1: RunnableGraph[NotUsed] = source.to(sink)\n",
    "val runnableGraph2: RunnableGraph[Future[Done]] = source.toMat(sink)(Keep.right)"
   ]
  },
  {
   "cell_type": "markdown",
   "metadata": {},
   "source": [
    "In order to run a graph we need an actor system and a materializer (the actual interpreter)."
   ]
  },
  {
   "cell_type": "code",
   "execution_count": 28,
   "metadata": {},
   "outputs": [
    {
     "data": {
      "text/plain": [
       "\u001b[36msystem\u001b[39m: \u001b[32mActorSystem\u001b[39m = \u001b[32m[lazy]\u001b[39m\n",
       "\u001b[36mres27_1\u001b[39m: \u001b[32mMaterializer\u001b[39m = \u001b[33mPhasedFusingActorMaterializer\u001b[39m(\n",
       "  akka://akka-stream-primer,\n",
       "  ActorMaterializerSettings(4,16,akka.actor.default-dispatcher,<function1>,StreamSubscriptionTimeoutSettings(CancelTermination,5000 milliseconds),false,1000,1000,false,true,IoSettings(16384)),\n",
       "  \u001b[33mAttributes\u001b[39m(\n",
       "    \u001b[33mList\u001b[39m(\n",
       "      \u001b[33mInputBuffer\u001b[39m(\u001b[32m4\u001b[39m, \u001b[32m16\u001b[39m),\n",
       "      \u001b[33mCancellationStrategy\u001b[39m(PropagateFailure),\n",
       "      \u001b[33mDispatcher\u001b[39m(\u001b[32m\"akka.actor.default-dispatcher\"\u001b[39m),\n",
       "      \u001b[33mSupervisionStrategy\u001b[39m(<function1>),\n",
       "      \u001b[33mDebugLogging\u001b[39m(false),\n",
       "      \u001b[33mStreamSubscriptionTimeout\u001b[39m(5000 milliseconds, CancelTermination),\n",
       "      \u001b[33mOutputBurstLimit\u001b[39m(\u001b[32m1000\u001b[39m),\n",
       "      \u001b[33mFuzzingMode\u001b[39m(false),\n",
       "      \u001b[33mMaxFixedBufferSize\u001b[39m(\u001b[32m1000000000\u001b[39m),\n",
       "      \u001b[33mSyncProcessingLimit\u001b[39m(\u001b[32m1000\u001b[39m)\n",
       "    )\n",
       "  ),\n",
       "  akka.dispatch.Dispatchers@650df8f0,\n",
       "  Actor[akka://akka-stream-primer/system/Materializers/StreamSupervisor-3#2070478419],\n",
       "  false,\n",
       "  akka.stream.impl.SeqActorNameImpl@7b7a2ed2\n",
       ")"
      ]
     },
     "execution_count": 28,
     "metadata": {},
     "output_type": "execute_result"
    }
   ],
   "source": [
    "implicit lazy val system: ActorSystem = ActorSystem(\"akka-stream-primer\")\n",
    "implicitly[Materializer]"
   ]
  },
  {
   "cell_type": "code",
   "execution_count": 29,
   "metadata": {},
   "outputs": [
    {
     "name": "stdout",
     "output_type": "stream",
     "text": [
      "1\n",
      "2\n",
      "3\n"
     ]
    },
    {
     "data": {
      "text/plain": [
       "\u001b[36mres28\u001b[39m: \u001b[32mNotUsed\u001b[39m = NotUsed"
      ]
     },
     "execution_count": 29,
     "metadata": {},
     "output_type": "execute_result"
    }
   ],
   "source": [
    "runnableGraph.run"
   ]
  },
  {
   "cell_type": "code",
   "execution_count": 30,
   "metadata": {},
   "outputs": [
    {
     "name": "stdout",
     "output_type": "stream",
     "text": [
      "1\n",
      "2\n",
      "3\n"
     ]
    },
    {
     "data": {
      "text/html": [
       "<div class=\"jp-RenderedText\">\n",
       "<pre><code><span style=\"color: rgb(0, 187, 187)\"><span class=\"ansi-cyan-fg\">res29</span></span>: <span style=\"color: rgb(0, 187, 0)\"><span class=\"ansi-green-fg\">Future</span></span>[<span style=\"color: rgb(0, 187, 0)\"><span class=\"ansi-green-fg\">Done</span></span>] = <span style=\"color: rgb(0, 187, 0)\"><span class=\"ansi-green-fg\"><span style=\"color: yellow\"><span class=\"ansi-yellow-fg\">Success</span></span>(Done)</span></span></code></pre>\n",
       "</div>"
      ],
      "text/plain": [
       "\u001b[36mres29\u001b[39m: \u001b[32mFuture\u001b[39m[\u001b[32mDone\u001b[39m] = \u001b[32m\u001b[33mSuccess\u001b[39m(Done)\u001b[39m"
      ]
     },
     "metadata": {},
     "output_type": "display_data"
    }
   ],
   "source": [
    "runnableGraph2.run"
   ]
  },
  {
   "cell_type": "markdown",
   "metadata": {},
   "source": [
    "# File IO"
   ]
  },
  {
   "cell_type": "code",
   "execution_count": null,
   "metadata": {},
   "outputs": [],
   "source": []
  }
 ],
 "metadata": {
  "kernelspec": {
   "display_name": "Scala",
   "language": "scala",
   "name": "scala"
  },
  "language_info": {
   "codemirror_mode": "text/x-scala",
   "file_extension": ".scala",
   "mimetype": "text/x-scala",
   "name": "scala",
   "nbconvert_exporter": "script",
   "version": "2.13.0"
  }
 },
 "nbformat": 4,
 "nbformat_minor": 2
}
