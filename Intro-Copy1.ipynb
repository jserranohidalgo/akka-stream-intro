{
 "cells": [
  {
   "cell_type": "code",
   "execution_count": 1,
   "metadata": {},
   "outputs": [
    {
     "data": {
      "text/plain": [
       "\u001b[32mimport \u001b[39m\u001b[36m$ivy.$                                    \n",
       "\u001b[39m\n",
       "\u001b[32mimport \u001b[39m\u001b[36m$ivy.$                                               \n",
       "\u001b[39m\n",
       "\u001b[32mimport \u001b[39m\u001b[36m$ivy.$                                           \n",
       "\u001b[39m\n",
       "\u001b[32mimport \u001b[39m\u001b[36m$ivy.$                                      \n",
       "\u001b[39m\n",
       "\u001b[32mimport \u001b[39m\u001b[36m$ivy.$                                     \u001b[39m"
      ]
     },
     "execution_count": 1,
     "metadata": {},
     "output_type": "execute_result"
    }
   ],
   "source": [
    "import $ivy.`com.typesafe.akka::akka-http:10.2.1`\n",
    "import $ivy.`com.typesafe.akka::akka-http-spray-json:10.2.1`\n",
    "import $ivy.`com.typesafe.akka::akka-actor-typed:2.6.10`\n",
    "import $ivy.`com.typesafe.akka::akka-stream:2.6.10`\n",
    "import $ivy.`ch.qos.logback:logback-classic:1.2.3`"
   ]
  },
  {
   "cell_type": "code",
   "execution_count": 2,
   "metadata": {},
   "outputs": [],
   "source": [
    "repl.pprinter() = repl.pprinter().copy(defaultHeight = 15 )"
   ]
  },
  {
   "cell_type": "code",
   "execution_count": 75,
   "metadata": {},
   "outputs": [
    {
     "data": {
      "text/plain": [
       "\u001b[32mimport \u001b[39m\u001b[36makka.stream._, scaladsl._, Tcp._\n",
       "\u001b[39m\n",
       "\u001b[32mimport \u001b[39m\u001b[36makka.{ Done, NotUsed }\n",
       "\u001b[39m\n",
       "\u001b[32mimport \u001b[39m\u001b[36makka.actor.ActorSystem\n",
       "\u001b[39m\n",
       "\u001b[32mimport \u001b[39m\u001b[36makka.util.ByteString\n",
       "\u001b[39m\n",
       "\u001b[32mimport \u001b[39m\u001b[36mscala.concurrent._\n",
       "\u001b[39m\n",
       "\u001b[32mimport \u001b[39m\u001b[36mscala.concurrent.duration._\n",
       "\u001b[39m\n",
       "\u001b[32mimport \u001b[39m\u001b[36mjava.nio.file.Paths\n",
       "\u001b[39m\n",
       "\u001b[32mimport \u001b[39m\u001b[36makka.NotUsed\n",
       "\u001b[39m\n",
       "\u001b[32mimport \u001b[39m\u001b[36makka.stream.scaladsl.{BidiFlow, Source}\n",
       "\u001b[39m\n",
       "\u001b[32mimport \u001b[39m\u001b[36makka.stream.stage.{GraphStage, GraphStageLogic, InHandler, OutHandler}\n",
       "\u001b[39m\n",
       "\u001b[32mimport \u001b[39m\u001b[36makka.stream.{Attributes, BidiShape, Inlet, Outlet}\n",
       "\u001b[39m\n",
       "\u001b[32mimport \u001b[39m\u001b[36makka.util.ByteString\n",
       "\u001b[39m\n",
       "\u001b[32mimport \u001b[39m\u001b[36makka.event._\n",
       "\u001b[39m"
      ]
     },
     "execution_count": 75,
     "metadata": {},
     "output_type": "execute_result"
    }
   ],
   "source": [
    "import akka.stream._, scaladsl._, Tcp._\n",
    "import akka.{ Done, NotUsed }\n",
    "import akka.actor.ActorSystem\n",
    "import akka.util.ByteString\n",
    "import scala.concurrent._\n",
    "import scala.concurrent.duration._\n",
    "import java.nio.file.Paths\n",
    "import akka.NotUsed\n",
    "import akka.stream.scaladsl.{BidiFlow, Source}\n",
    "import akka.stream.stage.{GraphStage, GraphStageLogic, InHandler, OutHandler}\n",
    "import akka.stream.{Attributes, BidiShape, Inlet, Outlet}\n",
    "import akka.util.ByteString\n",
    "import akka.event._\n"
   ]
  },
  {
   "cell_type": "code",
   "execution_count": null,
   "metadata": {},
   "outputs": [],
   "source": []
  },
  {
   "cell_type": "code",
   "execution_count": 4,
   "metadata": {},
   "outputs": [
    {
     "name": "stdout",
     "output_type": "stream",
     "text": [
      "22:45:57.410 [QuickStart-akka.actor.default-dispatcher-5] INFO akka.event.slf4j.Slf4jLogger - Slf4jLogger started\n"
     ]
    },
    {
     "data": {
      "text/plain": [
       "\u001b[36msystem\u001b[39m: \u001b[32mActorSystem\u001b[39m = akka://QuickStart"
      ]
     },
     "execution_count": 4,
     "metadata": {},
     "output_type": "execute_result"
    }
   ],
   "source": [
    "implicit val system = ActorSystem(\"QuickStart\")"
   ]
  },
  {
   "cell_type": "code",
   "execution_count": 96,
   "metadata": {},
   "outputs": [
    {
     "data": {
      "text/plain": [
       "defined \u001b[32mclass\u001b[39m \u001b[36mIdentityBidy\u001b[39m\n",
       "defined \u001b[32mobject\u001b[39m \u001b[36mIdentityBidy\u001b[39m"
      ]
     },
     "execution_count": 96,
     "metadata": {},
     "output_type": "execute_result"
    }
   ],
   "source": [
    "\n",
    "case class IdentityBidy()\n",
    "  extends GraphStage[BidiShape[String, ByteString, ByteString, ByteString]] {\n",
    "\n",
    "  override def toString: String = \"SeedlinkProtocol\"\n",
    "\n",
    "  val inC: Inlet[String] = Inlet(\"inC\")\n",
    "  val outC: Outlet[ByteString] = Outlet(\"outC\")\n",
    "  val inS: Inlet[ByteString] = Inlet(\"inS\")\n",
    "  val outS: Outlet[ByteString] = Outlet(\"outS\")\n",
    "\n",
    "  override val shape = BidiShape(inC, outC, inS, outS)\n",
    "\n",
    "  override def createLogic(inheritedAttributes: Attributes): GraphStageLogic =\n",
    "    new GraphStageLogic(shape) {\n",
    "      setHandler(inC, new InHandler {\n",
    "        override def onPush(): Unit =\n",
    "          push(outC, ByteString(grab(inC)))\n",
    "        override def onUpstreamFinish(): Unit = {\n",
    "        }\n",
    "      })\n",
    "\n",
    "      setHandler(outC, new OutHandler {\n",
    "        override def onPull(): Unit =\n",
    "          if (!isClosed(inC)) pull(inC)\n",
    "      })\n",
    "\n",
    "      setHandler(inS, new InHandler {\n",
    "        override def onPush(): Unit = \n",
    "          push(outS, grab(inS))\n",
    "      })\n",
    "\n",
    "      setHandler(outS, new OutHandler {\n",
    "        override def onPull(): Unit = \n",
    "          pull(inS)\n",
    "      })\n",
    "    }\n",
    "}\n",
    "\n",
    "object IdentityBidy{\n",
    "\n",
    "  val bidy: BidiFlow[String, ByteString, ByteString, ByteString, NotUsed] =\n",
    "    BidiFlow.fromGraph(IdentityBidy())\n",
    "\n",
    "}"
   ]
  },
  {
   "cell_type": "code",
   "execution_count": 120,
   "metadata": {},
   "outputs": [
    {
     "data": {
      "text/plain": [
       "\u001b[36mokServer\u001b[39m: \u001b[32mFlow\u001b[39m[\u001b[32mByteString\u001b[39m, \u001b[32mByteString\u001b[39m, \u001b[32mNotUsed\u001b[39m] = Flow(FlowShape(Map.in(1060423012),Map.out(1943187137)))"
      ]
     },
     "execution_count": 120,
     "metadata": {},
     "output_type": "execute_result"
    }
   ],
   "source": [
    "val okServer: Flow[ByteString, ByteString, NotUsed] = \n",
    "    Flow[ByteString].flatMapConcat{ c => \n",
    "        println(c.utf8String.trim == \"end\")\n",
    "        if (c.utf8String.trim == \"end\")\n",
    "            Source(List(\"1\",\"2\",\"3\",\"4\"))\n",
    "        else Source.single(\"ok\")\n",
    "    }.map(ByteString.apply)"
   ]
  },
  {
   "cell_type": "code",
   "execution_count": 121,
   "metadata": {},
   "outputs": [
    {
     "name": "stdout",
     "output_type": "stream",
     "text": [
      "false\n",
      "false\n",
      "false\n",
      "11:33:03.634 [QuickStart-akka.actor.default-dispatcher-70] WARN akka.stream.Materializer - [bidi] Element: ByteString(111, 107)\n",
      "11:33:03.634 [QuickStart-akka.actor.default-dispatcher-70] WARN akka.stream.Materializer - [bidi] Element: ByteString(111, 107)\n",
      "true\n",
      "11:33:03.634 [QuickStart-akka.actor.default-dispatcher-70] WARN akka.stream.Materializer - [bidi] Element: ByteString(111, 107)\n"
     ]
    },
    {
     "data": {
      "text/html": [
       "<div class=\"jp-RenderedText\">\n",
       "<pre><code><span style=\"color: rgb(0, 187, 187)\"><span class=\"ansi-cyan-fg\">res120</span></span>: <span style=\"color: rgb(0, 187, 0)\"><span class=\"ansi-green-fg\">Future</span></span>[<span style=\"color: rgb(0, 187, 0)\"><span class=\"ansi-green-fg\">Seq</span></span>[<span style=\"color: rgb(0, 187, 0)\"><span class=\"ansi-green-fg\">ByteString</span></span>]] = <span style=\"color: rgb(0, 187, 0)\"><span class=\"ansi-green-fg\"><span style=\"color: white\"><span class=\"ansi-white-fg\">[running]</span></span></span></span></code></pre>\n",
       "</div>"
      ],
      "text/plain": [
       "\u001b[36mres120\u001b[39m: \u001b[32mFuture\u001b[39m[\u001b[32mSeq\u001b[39m[\u001b[32mByteString\u001b[39m]] = \u001b[32m\u001b[37m[running]\u001b[39m\u001b[39m"
      ]
     },
     "metadata": {},
     "output_type": "display_data"
    }
   ],
   "source": [
    "Source(List(\"a\", \"b\", \"c\", \"end\"))\n",
    "    .via(IdentityBidy.bidy.join(okServer))\n",
    "    .log(\"bidi\").withAttributes(Attributes.logLevels(\n",
    "        onElement = Logging.WarningLevel, \n",
    "        onFinish = Logging.WarningLevel, \n",
    "        onFailure = Logging.WarningLevel))\n",
    "    .runWith(Sink.seq) // .runWith(Sink.foreach(bs => print(bs.utf8String)))"
   ]
  },
  {
   "cell_type": "code",
   "execution_count": 122,
   "metadata": {},
   "outputs": [
    {
     "data": {
      "text/plain": [
       "defined \u001b[32mclass\u001b[39m \u001b[36mIdentityBidy2\u001b[39m\n",
       "defined \u001b[32mobject\u001b[39m \u001b[36mIdentityBidy2\u001b[39m"
      ]
     },
     "execution_count": 122,
     "metadata": {},
     "output_type": "execute_result"
    }
   ],
   "source": [
    "\n",
    "case class IdentityBidy2()\n",
    "  extends GraphStage[BidiShape[String, ByteString, ByteString, ByteString]] {\n",
    "\n",
    "  override def toString: String = \"SeedlinkProtocol\"\n",
    "\n",
    "  val inC: Inlet[String] = Inlet(\"inC\")\n",
    "  val outC: Outlet[ByteString] = Outlet(\"outC\")\n",
    "  val inS: Inlet[ByteString] = Inlet(\"inS\")\n",
    "  val outS: Outlet[ByteString] = Outlet(\"outS\")\n",
    "\n",
    "  override val shape = BidiShape(inC, outC, inS, outS)\n",
    "\n",
    "  override def createLogic(inheritedAttributes: Attributes): GraphStageLogic =\n",
    "    new GraphStageLogic(shape) {\n",
    "      var command: Option[String] = None\n",
    "        \n",
    "      var transmission: Boolean = false\n",
    "\n",
    "      override def preStart(): Unit = {\n",
    "        pull(inC)\n",
    "      }\n",
    "\n",
    "      setHandler(inC, new InHandler {\n",
    "        override def onPush(): Unit = {\n",
    "            val elem = grab(inC)\n",
    "            println(s\"inC: onPush $elem\")\n",
    "            if (elem.trim == \"end\") transmission = true\n",
    "            push(outC, ByteString(elem))\n",
    "        }\n",
    "          \n",
    "        override def onUpstreamFinish(): Unit = ()\n",
    "      })\n",
    "\n",
    "      setHandler(outC, new OutHandler {\n",
    "        override def onPull(): Unit =\n",
    "          println(s\"ouC: onPull\")\n",
    "      })\n",
    "\n",
    "      setHandler(inS, new InHandler {\n",
    "        override def onPush(): Unit = {\n",
    "          /*if (transmission) push(outS, grab(inS))\n",
    "          else if (grab(inS).utf8String == \"OK\\r\\n\") ()\n",
    "          else fail(outS, new Exception(s\"error received for command ${command.get}\"))\n",
    "          command = None\n",
    "          pull(inC)*/\n",
    "            val elem = grab(inS)\n",
    "            println(s\"inS: onPush $elem\")\n",
    "            if (transmission) push(outS, elem)\n",
    "            else pull(inC)\n",
    "        }\n",
    "      })\n",
    "\n",
    "      setHandler(outS, new OutHandler {\n",
    "        override def onPull(): Unit = {\n",
    "            println(\"ouS: onPull\")  \n",
    "            pull(inS)\n",
    "        }\n",
    "      })\n",
    "    }\n",
    "}\n",
    "\n",
    "object IdentityBidy2{\n",
    "\n",
    "  val bidy: BidiFlow[String, ByteString, ByteString, ByteString, NotUsed] =\n",
    "    BidiFlow.fromGraph(IdentityBidy2())\n",
    "\n",
    "}"
   ]
  },
  {
   "cell_type": "code",
   "execution_count": 131,
   "metadata": {},
   "outputs": [
    {
     "name": "stdout",
     "output_type": "stream",
     "text": [
      "ouS: onPull\n",
      "ouC: onPull\n",
      "inC: onPush a\n",
      "false\n",
      "inS: onPush ByteString(111, 107)\n",
      "ouC: onPull\n",
      "11:34:32.346 [QuickStart-akka.actor.default-dispatcher-73] WARN akka.stream.Materializer - [source] Element: a\n",
      "inC: onPush b\n",
      "false\n",
      "11:34:32.346 [QuickStart-akka.actor.default-dispatcher-73] WARN akka.stream.Materializer - [source] Element: b\n"
     ]
    },
    {
     "data": {
      "text/html": [
       "<div class=\"jp-RenderedText\">\n",
       "<pre><code><span style=\"color: rgb(0, 187, 187)\"><span class=\"ansi-cyan-fg\">res130</span></span>: <span style=\"color: rgb(0, 187, 0)\"><span class=\"ansi-green-fg\">Future</span></span>[<span style=\"color: rgb(0, 187, 0)\"><span class=\"ansi-green-fg\">Done</span></span>] = <span style=\"color: rgb(0, 187, 0)\"><span class=\"ansi-green-fg\"><span style=\"color: white\"><span class=\"ansi-white-fg\">[running]</span></span></span></span></code></pre>\n",
       "</div>"
      ],
      "text/plain": [
       "\u001b[36mres130\u001b[39m: \u001b[32mFuture\u001b[39m[\u001b[32mDone\u001b[39m] = \u001b[32m\u001b[37m[running]\u001b[39m\u001b[39m"
      ]
     },
     "metadata": {},
     "output_type": "display_data"
    }
   ],
   "source": [
    "Source(List(\"a\", \"b\", \"c\", \"end\"))\n",
    ".log(\"source\").withAttributes(Attributes.logLevels(\n",
    "        onElement = Logging.WarningLevel, \n",
    "        onFinish = Logging.WarningLevel, \n",
    "        onFailure = Logging.WarningLevel))\n",
    "    .via(IdentityBidy2.bidy.join(okServer))\n",
    ".log(\"after\").withAttributes(Attributes.logLevels(\n",
    "        onElement = Logging.WarningLevel, \n",
    "        onFinish = Logging.WarningLevel, \n",
    "        onFailure = Logging.WarningLevel))\n",
    "    .runWith(Sink.foreach(bs => print(bs.utf8String)))"
   ]
  },
  {
   "cell_type": "code",
   "execution_count": 42,
   "metadata": {},
   "outputs": [
    {
     "data": {
      "text/plain": [
       "\u001b[36mres41\u001b[39m: \u001b[32mSource\u001b[39m[\u001b[32mInt\u001b[39m, \u001b[32mNotUsed\u001b[39m] = Source(SourceShape(flatten.out(449688692)))"
      ]
     },
     "execution_count": 42,
     "metadata": {},
     "output_type": "execute_result"
    }
   ],
   "source": [
    "Source(List(1)).flatMapConcat{ _ => Source.fromIterator(() => Iterator.iterate(0)(_+1)) }"
   ]
  },
  {
   "cell_type": "code",
   "execution_count": null,
   "metadata": {},
   "outputs": [],
   "source": [
    "res4.runForeach(println)"
   ]
  },
  {
   "cell_type": "code",
   "execution_count": null,
   "metadata": {},
   "outputs": [],
   "source": [
    "res4.toMat(Sink.head)(Keep.right)"
   ]
  },
  {
   "cell_type": "code",
   "execution_count": null,
   "metadata": {},
   "outputs": [],
   "source": [
    "res7.run()"
   ]
  },
  {
   "cell_type": "code",
   "execution_count": null,
   "metadata": {},
   "outputs": [],
   "source": [
    "Iterator.iterate(0)(_+1)\n"
   ]
  },
  {
   "cell_type": "code",
   "execution_count": null,
   "metadata": {},
   "outputs": [],
   "source": [
    "res4.take(10).toList"
   ]
  },
  {
   "cell_type": "code",
   "execution_count": null,
   "metadata": {},
   "outputs": [],
   "source": [
    "val server = Flow[Int].mapConcat{ i => \n",
    "    if (i<3) List(i) \n",
    "    else Iterator.iterate(i)(_+1).take(10).toList\n",
    "}"
   ]
  },
  {
   "cell_type": "code",
   "execution_count": null,
   "metadata": {},
   "outputs": [],
   "source": [
    "val server = Flow[Int].flatMapConcat{ i => \n",
    "    if (i<3) Source.single(i) \n",
    "    else Source.fromIterator(() => Iterator.iterate(i)(_+1))\n",
    "}"
   ]
  },
  {
   "cell_type": "code",
   "execution_count": null,
   "metadata": {},
   "outputs": [],
   "source": [
    "val server = Flow[Int].flatMapMerge(1, i => \n",
    "    if (i<3) Source.single(i) \n",
    "    else Source.fromIterator(() => Iterator.iterate(i)(_+1))\n",
    ")"
   ]
  },
  {
   "cell_type": "code",
   "execution_count": null,
   "metadata": {},
   "outputs": [],
   "source": [
    "Source(List(1,2,3)).via(server).runForeach(println)"
   ]
  },
  {
   "cell_type": "markdown",
   "metadata": {},
   "source": [
    "# Stateful maps"
   ]
  },
  {
   "cell_type": "code",
   "execution_count": null,
   "metadata": {},
   "outputs": [],
   "source": [
    "val letterAndIndex = Source(\"a\" :: \"b\" :: \"c\" :: \"d\" :: Nil).statefulMapConcat { () =>\n",
    "  var counter = 0L\n",
    "\n",
    "  // we return the function that will be invoked for each element\n",
    "  { element =>\n",
    "    counter += 1\n",
    "    // we return an iterable with the single element\n",
    "    (element, counter) :: Nil\n",
    "  }\n",
    "}\n"
   ]
  },
  {
   "cell_type": "code",
   "execution_count": null,
   "metadata": {},
   "outputs": [],
   "source": [
    "\n",
    "letterAndIndex.runForeach(println)"
   ]
  },
  {
   "cell_type": "code",
   "execution_count": null,
   "metadata": {},
   "outputs": [],
   "source": [
    "val fruitsAndDeniedCommands = Source(\n",
    "  \"banana\" :: \"pear\" :: \"orange\" :: \"deny:banana\" :: \"banana\" :: \"pear\" :: \"banana\" :: Nil)\n"
   ]
  },
  {
   "cell_type": "code",
   "execution_count": null,
   "metadata": {},
   "outputs": [],
   "source": [
    "val denyFilterFlow = Flow[String].statefulMapConcat { () =>\n",
    "  var denyList = Set.empty[String]\n",
    "\n",
    "  { element =>\n",
    "    if (element.startsWith(\"deny:\")) {\n",
    "      denyList += element.drop(5)\n",
    "      Nil // no element downstream when adding a deny listed keyword\n",
    "    } else if (denyList(element)) {\n",
    "      Nil // no element downstream if element is deny listed\n",
    "    } else {\n",
    "      element :: Nil\n",
    "    }\n",
    "  }\n",
    "}\n"
   ]
  },
  {
   "cell_type": "code",
   "execution_count": null,
   "metadata": {},
   "outputs": [],
   "source": [
    "fruitsAndDeniedCommands.via(denyFilterFlow).runForeach(println)\n"
   ]
  },
  {
   "cell_type": "code",
   "execution_count": null,
   "metadata": {},
   "outputs": [],
   "source": [
    "val server = Flow[String].map(_ => \"OK\")"
   ]
  },
  {
   "cell_type": "code",
   "execution_count": null,
   "metadata": {},
   "outputs": [],
   "source": [
    "val client = Flow[String].merge(Source(List(\"1\",\"2\",\"3\"))).map(s => {println(s); s})"
   ]
  },
  {
   "cell_type": "code",
   "execution_count": null,
   "metadata": {},
   "outputs": [],
   "source": [
    "server.join(client).run()"
   ]
  },
  {
   "cell_type": "code",
   "execution_count": null,
   "metadata": {},
   "outputs": [],
   "source": [
    "import akka.stream._"
   ]
  },
  {
   "cell_type": "code",
   "execution_count": null,
   "metadata": {},
   "outputs": [],
   "source": [
    "val graph = RunnableGraph.fromGraph(GraphDSL.create() { implicit b =>\n",
    "  import GraphDSL.Implicits._\n",
    "\n",
    "  val source = Source(List(1,2,3))\n",
    "  val merge = b.add(Merge[Int](2))\n",
    "  val bcast = b.add(Broadcast[Int](2))\n",
    "\n",
    "  source ~> merge ~> Flow[Int].map { s => println(s); s }.filter(_ % 2 == 0) ~> bcast ~> Sink.ignore\n",
    "            merge                    <~                      bcast\n",
    "  ClosedShape\n",
    "})"
   ]
  },
  {
   "cell_type": "code",
   "execution_count": null,
   "metadata": {},
   "outputs": [],
   "source": [
    "graph.run()"
   ]
  },
  {
   "cell_type": "code",
   "execution_count": null,
   "metadata": {},
   "outputs": [],
   "source": [
    "val graph = RunnableGraph.fromGraph(GraphDSL.create() { implicit b =>\n",
    "  import GraphDSL.Implicits._\n",
    "\n",
    "  val source = Source(List(1,2,3))\n",
    "  val merge = b.add(MergePreferred[Int](1))\n",
    "  val bcast = b.add(Broadcast[Int](2))\n",
    "\n",
    "  source ~> merge ~> Flow[Int].map { s => println(s); s }.filter(_ % 2 == 0) ~> bcast ~> Sink.ignore\n",
    "            merge.preferred                   <~                      bcast\n",
    "  ClosedShape\n",
    "})"
   ]
  },
  {
   "cell_type": "code",
   "execution_count": null,
   "metadata": {},
   "outputs": [],
   "source": [
    "val g = RunnableGraph.fromGraph(GraphDSL.create() { implicit b =>\n",
    "  import GraphDSL.Implicits._\n",
    "\n",
    "  val source = Source(List(1,2,3,4,5))\n",
    "  val zip = b.add(ZipWith((left: Int, right: Int) => left))\n",
    "  val bcast = b.add(Broadcast[Int](2))\n",
    "  val concat = b.add(Concat[Int]())\n",
    "  val start = Source.single(0)\n",
    "\n",
    "  source ~> zip.in0\n",
    "  zip.out/*.map { s => println(s); s }*/ ~> bcast ~> Sink.foreach{println}\n",
    "  zip.in1 <~ concat <~ start\n",
    "             concat         <~          bcast\n",
    "  ClosedShape\n",
    "})"
   ]
  },
  {
   "cell_type": "code",
   "execution_count": null,
   "metadata": {},
   "outputs": [],
   "source": [
    "g.run()"
   ]
  },
  {
   "cell_type": "code",
   "execution_count": null,
   "metadata": {},
   "outputs": [],
   "source": [
    "val f: Flow[Int, Int, NotUsed] = Flow[Int].map(-_).alsoTo(Sink.foreach{i => println(s\"Server: $i\")})"
   ]
  },
  {
   "cell_type": "code",
   "execution_count": null,
   "metadata": {},
   "outputs": [],
   "source": [
    "val g = RunnableGraph.fromGraph(GraphDSL.create(f) { implicit b => flow => \n",
    "  import GraphDSL.Implicits._\n",
    "\n",
    "  val source = Source(List(1,2,3,4,5))\n",
    "  val interleave = b.add(Interleave[Int](2, 1))\n",
    "  val filter = b.add(Flow[Int].filter(_ > 0))\n",
    "  val bcast = b.add(Broadcast[Int](2))\n",
    "\n",
    "  source ~> interleave.in(0)\n",
    "  flow.out ~> interleave.in(1)\n",
    "  interleave.out ~> filter ~> bcast ~> flow.in\n",
    "                              bcast ~> Sink.foreach{i: Int => println(s\"Client: $i\")}\n",
    "  ClosedShape\n",
    "})"
   ]
  },
  {
   "cell_type": "code",
   "execution_count": null,
   "metadata": {},
   "outputs": [],
   "source": [
    "val g = RunnableGraph.fromGraph(GraphDSL.create(f) { implicit b => flow => \n",
    "  import GraphDSL.Implicits._\n",
    "\n",
    "  val source = Source(List(1,2,3,4,5))\n",
    "  val interleave = b.add(Interleave[Int](2, 1))\n",
    "  val check = b.add(Flow[Int].map{ i => \n",
    "      if (i == -3)  throw new Exception(\"error\")\n",
    "      else i\n",
    "  })\n",
    "  val filter = b.add(Flow[Int].filter(_ > 0))\n",
    "  val bcast = b.add(Broadcast[Int](2))\n",
    "  val bcast2 = b.add(Broadcast[Int](2))\n",
    "\n",
    "  source ~> interleave.in(0)\n",
    "  flow.out ~> interleave.in(1)\n",
    "  interleave.out ~> bcast2 ~> Sink.foreach{i : Int => println(s\"Client (received): $i\")}\n",
    "                    bcast2 ~> check ~> filter ~> bcast ~> flow.in\n",
    "                              bcast ~> Sink.foreach{i: Int => println(s\"Client: $i\")}\n",
    "  ClosedShape\n",
    "})"
   ]
  },
  {
   "cell_type": "code",
   "execution_count": null,
   "metadata": {},
   "outputs": [],
   "source": [
    "g.run()"
   ]
  },
  {
   "cell_type": "code",
   "execution_count": null,
   "metadata": {},
   "outputs": [],
   "source": [
    "val r = Source(List(1,2,3)).mapMaterializedValue(_ => 1).to(Sink.ignore)"
   ]
  },
  {
   "cell_type": "code",
   "execution_count": null,
   "metadata": {},
   "outputs": [],
   "source": [
    "val r = Source(List(1,2,3)).alsoTo(Sink.foreach(println)).to(Sink.ignore)"
   ]
  },
  {
   "cell_type": "code",
   "execution_count": null,
   "metadata": {},
   "outputs": [],
   "source": [
    "val r = Source(List(1,2,3)).alsoTo(Sink.foreach(println)).to(Sink.cancelled)"
   ]
  },
  {
   "cell_type": "code",
   "execution_count": null,
   "metadata": {},
   "outputs": [],
   "source": [
    "r.run()"
   ]
  },
  {
   "cell_type": "code",
   "execution_count": null,
   "metadata": {},
   "outputs": [],
   "source": [
    "val countingSrc = Source(Stream.from(1)).delay(1.second, DelayOverflowStrategy.backpressure)\n",
    "val lastSnk = Sink.last[Int]\n",
    "\n",
    "val (killSwitch, last) = countingSrc\n",
    "  .viaMat(KillSwitches.single)(Keep.right)\n",
    "  .toMat(lastSnk)(Keep.both)\n",
    "  .run()"
   ]
  },
  {
   "cell_type": "code",
   "execution_count": null,
   "metadata": {},
   "outputs": [],
   "source": [
    "killSwitch.shutdown"
   ]
  },
  {
   "cell_type": "code",
   "execution_count": null,
   "metadata": {},
   "outputs": [],
   "source": [
    "Await.result(last, 60.second)"
   ]
  },
  {
   "cell_type": "markdown",
   "metadata": {},
   "source": [
    "# The server"
   ]
  },
  {
   "cell_type": "code",
   "execution_count": null,
   "metadata": {},
   "outputs": [],
   "source": [
    "val connections: Source[IncomingConnection, Future[ServerBinding]] =\n",
    "  Tcp().bind(\"127.0.0.1\", 8890)"
   ]
  },
  {
   "cell_type": "code",
   "execution_count": null,
   "metadata": {},
   "outputs": [],
   "source": [
    "connections.runForeach { connection =>\n",
    "  println(s\"New connection from: ${connection.remoteAddress}\")\n",
    "\n",
    "  val echo = Flow[ByteString]\n",
    "    .via(Framing.delimiter(ByteString(\"\\n\"), maximumFrameLength = 256, allowTruncation = true))\n",
    "    .map(_.utf8String)\n",
    "    .map(_ + \"!!!\\n\")\n",
    "    .merge(Source.single(\"Hi!\"))\n",
    "    .map( (s: String) => { println(s); ByteString(s)})\n",
    "\n",
    "  connection.handleWith(echo)\n",
    "}"
   ]
  },
  {
   "cell_type": "code",
   "execution_count": null,
   "metadata": {},
   "outputs": [],
   "source": [
    "//res6.foreach{println}(ExecutionContext.global)"
   ]
  },
  {
   "cell_type": "markdown",
   "metadata": {},
   "source": [
    "# The client"
   ]
  },
  {
   "cell_type": "code",
   "execution_count": null,
   "metadata": {},
   "outputs": [],
   "source": [
    "val connclient = Tcp().outgoingConnection(\"127.0.0.1\", 8890)"
   ]
  },
  {
   "cell_type": "code",
   "execution_count": null,
   "metadata": {},
   "outputs": [],
   "source": [
    "import scala.io.StdIn.readLine\n",
    "\n",
    "val replParser =\n",
    "  Flow[String].takeWhile(_ != \"q\").concat(Source.single(\"BYE\")).map(elem => ByteString(s\"$elem\\n\"))\n",
    "\n",
    "val repl = Flow[ByteString].via(Framing.delimiter(ByteString(\"\\n\"), maximumFrameLength = 256, allowTruncation = true)).map(_.utf8String).map(text => println(\"Server: \" + text)).map(_ => readLine(\"> \")).via(replParser)\n",
    "\n",
    "val connected = connclient.join(repl).run()"
   ]
  },
  {
   "cell_type": "code",
   "execution_count": null,
   "metadata": {},
   "outputs": [],
   "source": []
  }
 ],
 "metadata": {
  "kernelspec": {
   "display_name": "Scala",
   "language": "scala",
   "name": "scala"
  },
  "language_info": {
   "codemirror_mode": "text/x-scala",
   "file_extension": ".sc",
   "mimetype": "text/x-scala",
   "name": "scala",
   "nbconvert_exporter": "script",
   "version": "2.13.3"
  }
 },
 "nbformat": 4,
 "nbformat_minor": 2
}
